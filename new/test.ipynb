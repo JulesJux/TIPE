{
 "cells": [
  {
   "cell_type": "markdown",
   "metadata": {},
   "source": [
    "# Le cadre\n",
    "## Les hypothèses\n",
    "- (/) Sigal sinusoïdal en entrée -> type Acos(wt+phi)\n",
    "(//) Signal périodique\n",
    "\n",
    "- (/) Dipôles : \n",
    "    - Conducteur ohmique\n",
    "    - Bobine\n",
    "    - Condensateur \n",
    "    - (//) Transistors\n",
    "\n",
    "- (/) Générateur + masse\n",
    "    - oscillo (sortie connectée à la masse du générateur)\n",
    "\n",
    "## Objectif\n",
    "- Principal : à partir d'une tension donnée en entrée,\n",
    "déterminer une tension en sortie\n",
    "- Partir de cas classiques vers des cas généraux (filtres particuliers)\n",
    "\n",
    "    \n"
   ]
  },
  {
   "cell_type": "code",
   "execution_count": 1,
   "metadata": {},
   "outputs": [
    {
     "ename": "ModuleNotFoundError",
     "evalue": "No module named 'pyspice'",
     "output_type": "error",
     "traceback": [
      "\u001b[0;31m---------------------------------------------------------------------------\u001b[0m",
      "\u001b[0;31mModuleNotFoundError\u001b[0m                       Traceback (most recent call last)",
      "Cell \u001b[0;32mIn[1], line 1\u001b[0m\n\u001b[0;32m----> 1\u001b[0m \u001b[38;5;28;01mimport\u001b[39;00m \u001b[38;5;21;01mpyspice\u001b[39;00m\n",
      "\u001b[0;31mModuleNotFoundError\u001b[0m: No module named 'pyspice'"
     ]
    }
   ],
   "source": [
    "import pyspice\n"
   ]
  },
  {
   "cell_type": "markdown",
   "metadata": {},
   "source": []
  }
 ],
 "metadata": {
  "kernelspec": {
   "display_name": "Python 3",
   "language": "python",
   "name": "python3"
  },
  "language_info": {
   "codemirror_mode": {
    "name": "ipython",
    "version": 3
   },
   "file_extension": ".py",
   "mimetype": "text/x-python",
   "name": "python",
   "nbconvert_exporter": "python",
   "pygments_lexer": "ipython3",
   "version": "3.12.3"
  }
 },
 "nbformat": 4,
 "nbformat_minor": 2
}
